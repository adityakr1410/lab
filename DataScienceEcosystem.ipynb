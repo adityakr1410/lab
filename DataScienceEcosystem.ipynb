{
 "cells": [
  {
   "cell_type": "markdown",
   "id": "ee951e72-c528-4726-b1d6-1c9f19398aba",
   "metadata": {
    "tags": []
   },
   "source": [
    "<h1>Data Science Tools and Ecosystem</h1>"
   ]
  },
  {
   "cell_type": "markdown",
   "id": "00177ff2-4250-4e2a-8cff-863ec7cbaef0",
   "metadata": {},
   "source": [
    "In this notebook, Data Science Tools and Ecosystem are summarized."
   ]
  },
  {
   "cell_type": "markdown",
   "id": "2966e1e5-dd8a-4a35-bdc5-e9d3fec2b111",
   "metadata": {},
   "source": [
    "Some of the popular languages that Data Scientists use are:\n",
    "1. Python\n",
    "2. R\n",
    "3. Java"
   ]
  },
  {
   "cell_type": "markdown",
   "id": "7bec9165-b796-4240-aabf-814ae7acc2eb",
   "metadata": {},
   "source": [
    "Some of the commonly used libraries used by Data Scientists include:\n",
    "1. Pyplot\n",
    "2. ggplot\n",
    "3. Pandas"
   ]
  },
  {
   "cell_type": "markdown",
   "id": "d3561aa2-ac4b-4e3c-84e9-7637bfc651dc",
   "metadata": {},
   "source": [
    "Data Science Tools\n",
    "\n",
    "|     1 |        2 |      3 |\n",
    "|-------|----------|--------|\n",
    "| Github | Jupyter | Python |"
   ]
  },
  {
   "cell_type": "markdown",
   "id": "d4eff89a-b502-47a4-af4e-14dd200c4ff5",
   "metadata": {},
   "source": [
    "###Below are a few examples of evaluating arithmetic expressions in Python"
   ]
  },
  {
   "cell_type": "code",
   "execution_count": 7,
   "id": "e81ea597-7c4e-4122-bc56-02c32927ccd6",
   "metadata": {
    "tags": []
   },
   "outputs": [
    {
     "data": {
      "text/plain": [
       "19"
      ]
     },
     "execution_count": 7,
     "metadata": {},
     "output_type": "execute_result"
    }
   ],
   "source": [
    "\"This is a simple arithmetic expression to multiply then add integers.\"\n",
    "(3*4)+7"
   ]
  },
  {
   "cell_type": "code",
   "execution_count": 6,
   "id": "be9dcde0-8a3a-4020-b9a5-b34f4130847f",
   "metadata": {
    "tags": []
   },
   "outputs": [
    {
     "name": "stdout",
     "output_type": "stream",
     "text": [
      "3.3333333333333335\n"
     ]
    }
   ],
   "source": [
    "\"This will convert 200 minutes to hours by diving by 60\"\n",
    "print(200/60)"
   ]
  },
  {
   "cell_type": "markdown",
   "id": "9797a76a-56e0-43e6-95d5-ff910fa7a9d3",
   "metadata": {},
   "source": [
    "Objectives:\n",
    "<ul>\n",
    "    <li>Create a Jupyter Notebook</li>\n",
    "    <li>Create markdown cell with title of the notebook</li>\n",
    "    <li>Create a markdown cell for an introduction</li>\n",
    "    <li> Create a markdown cell to list data science languages</li>\n",
    "    <li>Create a markdown cell to list data science libraries</li>\n",
    "    <li>Create a markdown cell with a table of Data Science tools</li>\n",
    "    <li>Create a markdown cell introducing arithmetic expression examples</li>\n",
    "    <li>Create a code cell to multiply and add numbers</li>\n",
    "</ul>"
   ]
  },
  {
   "cell_type": "markdown",
   "id": "78aa6b8a-c899-4db0-93e5-8661960ddbbb",
   "metadata": {},
   "source": [
    "<h2>Author</h2>\n",
    "Aditya Kumar"
   ]
  },
  {
   "cell_type": "code",
   "execution_count": null,
   "id": "243ef363-c9de-434a-96d3-1f0db56620d8",
   "metadata": {},
   "outputs": [],
   "source": []
  }
 ],
 "metadata": {
  "kernelspec": {
   "display_name": "Python",
   "language": "python",
   "name": "conda-env-python-py"
  },
  "language_info": {
   "codemirror_mode": {
    "name": "ipython",
    "version": 3
   },
   "file_extension": ".py",
   "mimetype": "text/x-python",
   "name": "python",
   "nbconvert_exporter": "python",
   "pygments_lexer": "ipython3",
   "version": "3.7.12"
  }
 },
 "nbformat": 4,
 "nbformat_minor": 5
}
